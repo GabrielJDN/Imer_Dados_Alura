{
 "cells": [
  {
   "cell_type": "markdown",
   "id": "c4ce28c4",
   "metadata": {},
   "source": [
    "# Última aula - Aula 5\n",
    "\n",
    "<p>Essa é a últim aula do Imersão Dados. Os desafios da aula serão:</p>\n",
    "\n",
    "<ol>\n",
    "    <li>Adicionar o valor \"real\" do m² do imóvel.</li>\n",
    "    <li>Testar outro modelo de regressão.</li>\n",
    "    <li>Criar um modelo baseline com as features originais.</li>\n",
    "    <li>Trabalhar mais nos dados e criar novas variáveis.</li>\n",
    "    <li>Testar as predições para casos reais.</li>\n",
    "    <li>Criar um projeto com os resultados da Imersão e postar nas redes sociais mostrando o trabalho realizado. Lembre-se de marcar a @AluraOnline e utilizar as hashtags #ImersãoDados e #ImersãoDados4.</li>   \n",
    "</ol>"
   ]
  },
  {
   "cell_type": "code",
   "execution_count": 15,
   "id": "2219735b",
   "metadata": {},
   "outputs": [],
   "source": [
    "#Importando bibliotecas importantes\n",
    "import numpy as np  \n",
    "import pandas as pd\n",
    "import matplotlib.pyplot as plt \n",
    "import seaborn as sns\n",
    "#sns.set(style = \"white\")\n",
    "from colorsys import hls_to_rgb #Para cores!\n",
    "from scipy import stats #Para tratamento os outliers que irão aparecer.\n",
    "from shapely.geometry import Point   #Para uso da latitude e longitude.\n",
    "from shapely.geometry import Polygon #Para uso da latitude e longitude.\n",
    "import geopandas as gpd              #Para uso da latitude e longitude.\n",
    "from sklearn.linear_model import LinearRegression\n",
    "\n",
    "# -------------------- Método de IA\n",
    "from sklearn.ensemble import RandomForestRegressor\n",
    "#Do SKLEARN, usarei o método de Floresta Aleatória para treinar o modelo.\n",
    "from sklearn.model_selection import cross_val_score\n",
    "#Do SKLEARN, uso esse método para fazer validação cruzada (cross-validation) nos dados.\n",
    "from xgboost import XGBRegressor\n",
    "#Esse é um outro método de IA que é apresentado perto do fim do notebook."
   ]
  },
  {
   "cell_type": "code",
   "execution_count": 16,
   "id": "1054aaf6",
   "metadata": {},
   "outputs": [],
   "source": [
    "#Pegando importações de outro notebook para estudo de IA:\n",
    "\n",
    "# -------------------- Separação de dados e teste MEA\n",
    "from sklearn.model_selection import train_test_split \n",
    "#Do SKLEARN, pego algo que faz o split dos dados automaticamente.\n",
    "from sklearn.metrics import mean_absolute_error, r2_score\n",
    "#Do SKLEARN, pego o método para obter os resíduos (erros) após o treinamento.\n",
    "\n",
    "# -------------------- Método de IA\n",
    "from sklearn.ensemble import RandomForestRegressor\n",
    "#Do SKLEARN, usarei o método de Floresta Aleatória para treinar o modelo.\n",
    "from sklearn.model_selection import cross_val_score\n",
    "#Do SKLEARN, uso esse método para fazer validação cruzada (cross-validation) nos dados.\n",
    "from xgboost import XGBRegressor\n",
    "#Esse é um outro método de IA que é apresentado perto do fim do notebook.\n",
    "\n",
    "# -------------------- Tratamento de dados\n",
    "from sklearn.impute import SimpleImputer\n",
    "#Do SKLEARN, importo um método para imputações, no caso o SimpleImputer.\n",
    "\n",
    "# --------------------- Codificação\n",
    "from sklearn.preprocessing import OrdinalEncoder\n",
    "#Do SKLEARN, importo um método para codificação ordinária.\n",
    "from sklearn.preprocessing import OneHotEncoder\n",
    "#Do SKLEARN, importo o método para codificação OneHotEncoder\n",
    "\n",
    "# -------------------- Pipeline de dados\n",
    "from sklearn.compose import ColumnTransformer\n",
    "#Do SKLEARN, importo um método para criar um pacote de processos, como imputação em dados numéricos\n",
    "#e categóricos.\n",
    "from sklearn.pipeline import Pipeline"
   ]
  },
  {
   "cell_type": "code",
   "execution_count": 3,
   "id": "efc4e4fc",
   "metadata": {},
   "outputs": [],
   "source": [
    "def bairros_ruins(DATASET,AGRUPAMENTO=\"Bairro\",CONTAGEM=\"Metragem\",CASAS=3):\n",
    "    \"\"\"\n",
    "    A sintaxe da função é: bairros_ruins(DATASET, AGRUPAMENTO, CONTAGEM, CASAS=3)\n",
    "    Essa função irá criar um lista para salvar os bairros que tenham um número menor de casas do que \n",
    "    é especificado para a função e irá retornar essa lista. \n",
    "    O DATASET será responsável por carregar o dataframe que será analisado. \n",
    "    O BAIRRO será responsável pelo agrupamento dos bairros.\n",
    "    A CONTAGEM será o termo utilizado para que a contagem do número de casas seja feita. \n",
    "    Por fim, CASAS é o número de \"corte\" para algo ser salvo na lista.\n",
    "    \"\"\"\n",
    "    lista_retorno = []\n",
    "    for i in DATASET.groupby([AGRUPAMENTO]).count()[CONTAGEM].index:\n",
    "        val = DATASET.groupby([AGRUPAMENTO]).count()[CONTAGEM].loc[i]\n",
    "        if val <=CASAS:\n",
    "            lista_retorno.append(i)\n",
    "    return lista_retorno"
   ]
  },
  {
   "cell_type": "code",
   "execution_count": 4,
   "id": "3c9420fc",
   "metadata": {},
   "outputs": [],
   "source": [
    "path_vendas = \"dados_vendas_censo.csv\"\n",
    "dados_vendas_censo = pd.read_csv(path_vendas)"
   ]
  },
  {
   "cell_type": "code",
   "execution_count": 5,
   "id": "508533aa",
   "metadata": {},
   "outputs": [
    {
     "data": {
      "text/html": [
       "<div>\n",
       "<style scoped>\n",
       "    .dataframe tbody tr th:only-of-type {\n",
       "        vertical-align: middle;\n",
       "    }\n",
       "\n",
       "    .dataframe tbody tr th {\n",
       "        vertical-align: top;\n",
       "    }\n",
       "\n",
       "    .dataframe thead th {\n",
       "        text-align: right;\n",
       "    }\n",
       "</style>\n",
       "<table border=\"1\" class=\"dataframe\">\n",
       "  <thead>\n",
       "    <tr style=\"text-align: right;\">\n",
       "      <th></th>\n",
       "      <th>Rua</th>\n",
       "      <th>Bairro</th>\n",
       "      <th>Cidade</th>\n",
       "      <th>Metragem</th>\n",
       "      <th>Quartos</th>\n",
       "      <th>Banheiros</th>\n",
       "      <th>Vagas</th>\n",
       "      <th>Valor_anuncio</th>\n",
       "      <th>Valor_mm</th>\n",
       "      <th>Valor_m2</th>\n",
       "      <th>...</th>\n",
       "      <th>V003</th>\n",
       "      <th>V004</th>\n",
       "      <th>V005</th>\n",
       "      <th>V006</th>\n",
       "      <th>V007</th>\n",
       "      <th>V008</th>\n",
       "      <th>V009</th>\n",
       "      <th>V010</th>\n",
       "      <th>V011</th>\n",
       "      <th>V012</th>\n",
       "    </tr>\n",
       "  </thead>\n",
       "  <tbody>\n",
       "    <tr>\n",
       "      <th>0</th>\n",
       "      <td>Avenida Itacira, 255</td>\n",
       "      <td>Planalto Paulista</td>\n",
       "      <td>São Paulo</td>\n",
       "      <td>1000</td>\n",
       "      <td>4</td>\n",
       "      <td>8</td>\n",
       "      <td>6</td>\n",
       "      <td>7000000.0</td>\n",
       "      <td>7.000</td>\n",
       "      <td>7000.000000</td>\n",
       "      <td>...</td>\n",
       "      <td>2.66</td>\n",
       "      <td>2.04</td>\n",
       "      <td>3158.96</td>\n",
       "      <td>22210644.93</td>\n",
       "      <td>5570.65</td>\n",
       "      <td>25770816.97</td>\n",
       "      <td>2096.19</td>\n",
       "      <td>13029851.56</td>\n",
       "      <td>3930.35</td>\n",
       "      <td>17241576.74</td>\n",
       "    </tr>\n",
       "    <tr>\n",
       "      <th>1</th>\n",
       "      <td>Rua Aurelia Perez Alvarez, 42</td>\n",
       "      <td>Jardim dos Estados</td>\n",
       "      <td>São Paulo</td>\n",
       "      <td>496</td>\n",
       "      <td>4</td>\n",
       "      <td>4</td>\n",
       "      <td>4</td>\n",
       "      <td>3700000.0</td>\n",
       "      <td>3.700</td>\n",
       "      <td>7459.677419</td>\n",
       "      <td>...</td>\n",
       "      <td>3.13</td>\n",
       "      <td>1.96</td>\n",
       "      <td>7600.44</td>\n",
       "      <td>36778930.17</td>\n",
       "      <td>7890.53</td>\n",
       "      <td>35886906.64</td>\n",
       "      <td>4149.00</td>\n",
       "      <td>26760682.90</td>\n",
       "      <td>6063.92</td>\n",
       "      <td>27502674.90</td>\n",
       "    </tr>\n",
       "    <tr>\n",
       "      <th>2</th>\n",
       "      <td>Rua Alba Valdez</td>\n",
       "      <td>Jardim Reimberg</td>\n",
       "      <td>São Paulo</td>\n",
       "      <td>125</td>\n",
       "      <td>4</td>\n",
       "      <td>3</td>\n",
       "      <td>2</td>\n",
       "      <td>380000.0</td>\n",
       "      <td>0.380</td>\n",
       "      <td>3040.000000</td>\n",
       "      <td>...</td>\n",
       "      <td>3.47</td>\n",
       "      <td>3.06</td>\n",
       "      <td>805.13</td>\n",
       "      <td>769188.78</td>\n",
       "      <td>1011.75</td>\n",
       "      <td>757433.42</td>\n",
       "      <td>518.77</td>\n",
       "      <td>426672.78</td>\n",
       "      <td>858.51</td>\n",
       "      <td>414378.88</td>\n",
       "    </tr>\n",
       "    <tr>\n",
       "      <th>3</th>\n",
       "      <td>Rua Tobias Barreto, 195</td>\n",
       "      <td>Mooca</td>\n",
       "      <td>São Paulo</td>\n",
       "      <td>100</td>\n",
       "      <td>3</td>\n",
       "      <td>2</td>\n",
       "      <td>2</td>\n",
       "      <td>540000.0</td>\n",
       "      <td>0.540</td>\n",
       "      <td>5400.000000</td>\n",
       "      <td>...</td>\n",
       "      <td>3.00</td>\n",
       "      <td>1.99</td>\n",
       "      <td>2338.05</td>\n",
       "      <td>7826370.15</td>\n",
       "      <td>2447.89</td>\n",
       "      <td>7925839.76</td>\n",
       "      <td>1543.29</td>\n",
       "      <td>4646566.16</td>\n",
       "      <td>1909.04</td>\n",
       "      <td>5050712.69</td>\n",
       "    </tr>\n",
       "    <tr>\n",
       "      <th>4</th>\n",
       "      <td>Rua Graham Bell</td>\n",
       "      <td>Santo Amaro</td>\n",
       "      <td>São Paulo</td>\n",
       "      <td>440</td>\n",
       "      <td>4</td>\n",
       "      <td>4</td>\n",
       "      <td>6</td>\n",
       "      <td>1980000.0</td>\n",
       "      <td>1.980</td>\n",
       "      <td>4500.000000</td>\n",
       "      <td>...</td>\n",
       "      <td>3.51</td>\n",
       "      <td>2.31</td>\n",
       "      <td>1026.36</td>\n",
       "      <td>272168.67</td>\n",
       "      <td>1143.96</td>\n",
       "      <td>167733.64</td>\n",
       "      <td>735.67</td>\n",
       "      <td>367088.08</td>\n",
       "      <td>1086.94</td>\n",
       "      <td>159622.46</td>\n",
       "    </tr>\n",
       "    <tr>\n",
       "      <th>...</th>\n",
       "      <td>...</td>\n",
       "      <td>...</td>\n",
       "      <td>...</td>\n",
       "      <td>...</td>\n",
       "      <td>...</td>\n",
       "      <td>...</td>\n",
       "      <td>...</td>\n",
       "      <td>...</td>\n",
       "      <td>...</td>\n",
       "      <td>...</td>\n",
       "      <td>...</td>\n",
       "      <td>...</td>\n",
       "      <td>...</td>\n",
       "      <td>...</td>\n",
       "      <td>...</td>\n",
       "      <td>...</td>\n",
       "      <td>...</td>\n",
       "      <td>...</td>\n",
       "      <td>...</td>\n",
       "      <td>...</td>\n",
       "      <td>...</td>\n",
       "    </tr>\n",
       "    <tr>\n",
       "      <th>5599</th>\n",
       "      <td>Rua Pedro Teixeira</td>\n",
       "      <td>Vila Olímpia</td>\n",
       "      <td>São Paulo</td>\n",
       "      <td>157</td>\n",
       "      <td>3</td>\n",
       "      <td>2</td>\n",
       "      <td>2</td>\n",
       "      <td>960000.0</td>\n",
       "      <td>0.960</td>\n",
       "      <td>6114.649682</td>\n",
       "      <td>...</td>\n",
       "      <td>2.17</td>\n",
       "      <td>1.27</td>\n",
       "      <td>5054.58</td>\n",
       "      <td>33245189.73</td>\n",
       "      <td>5231.93</td>\n",
       "      <td>33485189.78</td>\n",
       "      <td>3649.06</td>\n",
       "      <td>26562232.53</td>\n",
       "      <td>4551.66</td>\n",
       "      <td>29032823.35</td>\n",
       "    </tr>\n",
       "    <tr>\n",
       "      <th>5600</th>\n",
       "      <td>Avenida Odila</td>\n",
       "      <td>Planalto Paulista</td>\n",
       "      <td>São Paulo</td>\n",
       "      <td>267</td>\n",
       "      <td>3</td>\n",
       "      <td>6</td>\n",
       "      <td>4</td>\n",
       "      <td>1500000.0</td>\n",
       "      <td>1.500</td>\n",
       "      <td>5617.977528</td>\n",
       "      <td>...</td>\n",
       "      <td>2.81</td>\n",
       "      <td>1.60</td>\n",
       "      <td>4249.33</td>\n",
       "      <td>24499871.44</td>\n",
       "      <td>5180.14</td>\n",
       "      <td>25047413.33</td>\n",
       "      <td>2618.76</td>\n",
       "      <td>17705032.31</td>\n",
       "      <td>3977.93</td>\n",
       "      <td>21495997.85</td>\n",
       "    </tr>\n",
       "    <tr>\n",
       "      <th>5601</th>\n",
       "      <td>Rua Tapuçu</td>\n",
       "      <td>Vila Sofia</td>\n",
       "      <td>São Paulo</td>\n",
       "      <td>95</td>\n",
       "      <td>2</td>\n",
       "      <td>2</td>\n",
       "      <td>2</td>\n",
       "      <td>665000.0</td>\n",
       "      <td>0.665</td>\n",
       "      <td>7000.000000</td>\n",
       "      <td>...</td>\n",
       "      <td>2.99</td>\n",
       "      <td>1.81</td>\n",
       "      <td>2425.09</td>\n",
       "      <td>6878872.25</td>\n",
       "      <td>2543.80</td>\n",
       "      <td>6913867.79</td>\n",
       "      <td>1561.58</td>\n",
       "      <td>4261814.01</td>\n",
       "      <td>2062.09</td>\n",
       "      <td>4596759.57</td>\n",
       "    </tr>\n",
       "    <tr>\n",
       "      <th>5603</th>\n",
       "      <td>Rua Estero Belaco</td>\n",
       "      <td>Vila da Saúde</td>\n",
       "      <td>São Paulo</td>\n",
       "      <td>205</td>\n",
       "      <td>3</td>\n",
       "      <td>3</td>\n",
       "      <td>6</td>\n",
       "      <td>1050000.0</td>\n",
       "      <td>1.050</td>\n",
       "      <td>5121.951220</td>\n",
       "      <td>...</td>\n",
       "      <td>2.75</td>\n",
       "      <td>1.50</td>\n",
       "      <td>5650.20</td>\n",
       "      <td>20344622.14</td>\n",
       "      <td>5750.84</td>\n",
       "      <td>20127679.27</td>\n",
       "      <td>3459.68</td>\n",
       "      <td>16021825.60</td>\n",
       "      <td>4362.79</td>\n",
       "      <td>16264378.33</td>\n",
       "    </tr>\n",
       "    <tr>\n",
       "      <th>5604</th>\n",
       "      <td>Rua Barão de Tramandaí, 0</td>\n",
       "      <td>Vila Alpina</td>\n",
       "      <td>São Paulo</td>\n",
       "      <td>122</td>\n",
       "      <td>3</td>\n",
       "      <td>2</td>\n",
       "      <td>2</td>\n",
       "      <td>270000.0</td>\n",
       "      <td>0.270</td>\n",
       "      <td>2213.114754</td>\n",
       "      <td>...</td>\n",
       "      <td>2.97</td>\n",
       "      <td>1.75</td>\n",
       "      <td>1244.10</td>\n",
       "      <td>1353001.23</td>\n",
       "      <td>1364.89</td>\n",
       "      <td>1319336.96</td>\n",
       "      <td>895.93</td>\n",
       "      <td>988708.13</td>\n",
       "      <td>1226.86</td>\n",
       "      <td>947807.31</td>\n",
       "    </tr>\n",
       "  </tbody>\n",
       "</table>\n",
       "<p>5308 rows × 25 columns</p>\n",
       "</div>"
      ],
      "text/plain": [
       "                                 Rua              Bairro     Cidade  Metragem  \\\n",
       "0              Avenida Itacira, 255    Planalto Paulista  São Paulo      1000   \n",
       "1     Rua Aurelia Perez Alvarez, 42   Jardim dos Estados  São Paulo       496   \n",
       "2                    Rua Alba Valdez     Jardim Reimberg  São Paulo       125   \n",
       "3           Rua Tobias Barreto, 195                Mooca  São Paulo       100   \n",
       "4                    Rua Graham Bell         Santo Amaro  São Paulo       440   \n",
       "...                              ...                 ...        ...       ...   \n",
       "5599              Rua Pedro Teixeira        Vila Olímpia  São Paulo       157   \n",
       "5600                   Avenida Odila   Planalto Paulista  São Paulo       267   \n",
       "5601                      Rua Tapuçu          Vila Sofia  São Paulo        95   \n",
       "5603               Rua Estero Belaco       Vila da Saúde  São Paulo       205   \n",
       "5604      Rua Barão de Tramandaí, 0          Vila Alpina  São Paulo       122   \n",
       "\n",
       "      Quartos  Banheiros  Vagas  Valor_anuncio  Valor_mm     Valor_m2  ...  \\\n",
       "0           4          8      6      7000000.0     7.000  7000.000000  ...   \n",
       "1           4          4      4      3700000.0     3.700  7459.677419  ...   \n",
       "2           4          3      2       380000.0     0.380  3040.000000  ...   \n",
       "3           3          2      2       540000.0     0.540  5400.000000  ...   \n",
       "4           4          4      6      1980000.0     1.980  4500.000000  ...   \n",
       "...       ...        ...    ...            ...       ...          ...  ...   \n",
       "5599        3          2      2       960000.0     0.960  6114.649682  ...   \n",
       "5600        3          6      4      1500000.0     1.500  5617.977528  ...   \n",
       "5601        2          2      2       665000.0     0.665  7000.000000  ...   \n",
       "5603        3          3      6      1050000.0     1.050  5121.951220  ...   \n",
       "5604        3          2      2       270000.0     0.270  2213.114754  ...   \n",
       "\n",
       "      V003  V004     V005         V006     V007         V008     V009  \\\n",
       "0     2.66  2.04  3158.96  22210644.93  5570.65  25770816.97  2096.19   \n",
       "1     3.13  1.96  7600.44  36778930.17  7890.53  35886906.64  4149.00   \n",
       "2     3.47  3.06   805.13    769188.78  1011.75    757433.42   518.77   \n",
       "3     3.00  1.99  2338.05   7826370.15  2447.89   7925839.76  1543.29   \n",
       "4     3.51  2.31  1026.36    272168.67  1143.96    167733.64   735.67   \n",
       "...    ...   ...      ...          ...      ...          ...      ...   \n",
       "5599  2.17  1.27  5054.58  33245189.73  5231.93  33485189.78  3649.06   \n",
       "5600  2.81  1.60  4249.33  24499871.44  5180.14  25047413.33  2618.76   \n",
       "5601  2.99  1.81  2425.09   6878872.25  2543.80   6913867.79  1561.58   \n",
       "5603  2.75  1.50  5650.20  20344622.14  5750.84  20127679.27  3459.68   \n",
       "5604  2.97  1.75  1244.10   1353001.23  1364.89   1319336.96   895.93   \n",
       "\n",
       "             V010     V011         V012  \n",
       "0     13029851.56  3930.35  17241576.74  \n",
       "1     26760682.90  6063.92  27502674.90  \n",
       "2       426672.78   858.51    414378.88  \n",
       "3      4646566.16  1909.04   5050712.69  \n",
       "4       367088.08  1086.94    159622.46  \n",
       "...           ...      ...          ...  \n",
       "5599  26562232.53  4551.66  29032823.35  \n",
       "5600  17705032.31  3977.93  21495997.85  \n",
       "5601   4261814.01  2062.09   4596759.57  \n",
       "5603  16021825.60  4362.79  16264378.33  \n",
       "5604    988708.13  1226.86    947807.31  \n",
       "\n",
       "[5308 rows x 25 columns]"
      ]
     },
     "execution_count": 5,
     "metadata": {},
     "output_type": "execute_result"
    }
   ],
   "source": [
    "dados_vendas_censo = dados_vendas_censo[['Rua', 'Bairro', 'Cidade', 'Metragem', 'Quartos', 'Banheiros', 'Vagas',\n",
    "       'Valor_anuncio', 'Valor_mm', 'Valor_m2', 'latitude', 'longitude', 'Situacao_setor', 'V001',\n",
    "       'V002', 'V003', 'V004', 'V005', 'V006', 'V007', 'V008', 'V009', 'V010',\n",
    "       'V011', 'V012']].dropna()\n",
    "dados_vendas_censo"
   ]
  },
  {
   "cell_type": "code",
   "execution_count": 29,
   "id": "5236e384",
   "metadata": {},
   "outputs": [
    {
     "data": {
      "text/plain": [
       "['Rua',\n",
       " 'Bairro',\n",
       " 'Cidade',\n",
       " 'Metragem',\n",
       " 'Quartos',\n",
       " 'Banheiros',\n",
       " 'Vagas',\n",
       " 'Valor_anuncio',\n",
       " 'Valor_mm',\n",
       " 'Valor_m2',\n",
       " 'latitude',\n",
       " 'longitude',\n",
       " 'Situacao_setor',\n",
       " 'V001',\n",
       " 'V002',\n",
       " 'V003',\n",
       " 'V004',\n",
       " 'V005',\n",
       " 'V006',\n",
       " 'V007',\n",
       " 'V008',\n",
       " 'V009',\n",
       " 'V010',\n",
       " 'V011',\n",
       " 'V012']"
      ]
     },
     "execution_count": 29,
     "metadata": {},
     "output_type": "execute_result"
    }
   ],
   "source": [
    "list(dados_vendas_censo)"
   ]
  },
  {
   "cell_type": "code",
   "execution_count": 10,
   "id": "872ffde2",
   "metadata": {},
   "outputs": [
    {
     "data": {
      "image/png": "[encoded data removed]",
      "text/plain": [
       "<Figure size 720x576 with 1 Axes>"
      ]
     },
     "metadata": {
      "needs_background": "light"
     },
     "output_type": "display_data"
    }
   ],
   "source": [
    "dados_vendas_censo.drop(dados_vendas_censo.query(\"Valor_anuncio > 30000000 | Valor_anuncio < 100000\").index, inplace = True)\n",
    "plt.figure(figsize=(10, 8))\n",
    "ax = sns.boxplot(data = dados_vendas_censo, x=\"Valor_anuncio\")\n",
    "plt.show()"
   ]
  },
  {
   "cell_type": "code",
   "execution_count": 7,
   "id": "d43d59f9",
   "metadata": {},
   "outputs": [
    {
     "data": {
      "image/png": "[encoded data removed]",
      "text/plain": [
       "<Figure size 1296x576 with 2 Axes>"
      ]
     },
     "metadata": {
      "needs_background": "light"
     },
     "output_type": "display_data"
    }
   ],
   "source": [
    "plt.figure(figsize=(18, 8))\n",
    "#https://www.tylervigen.com/spurious-correlations\n",
    "mask = np.triu(np.ones_like(dados_vendas_censo.corr(), dtype=bool))\n",
    "heatmap = sns.heatmap(dados_vendas_censo.corr(), mask=mask, vmin=-1, vmax=1, annot=True, cmap='BrBG')\n",
    "heatmap.set_title('Correlação', fontdict={'fontsize':18}, pad=16);"
   ]
  },
  {
   "cell_type": "code",
   "execution_count": 8,
   "id": "d12896ca",
   "metadata": {},
   "outputs": [],
   "source": [
    "X = dados_vendas_censo[['Metragem', 'Quartos', 'Banheiros', 'Vagas','V001','V007', 'V009']]\n",
    "Y = dados_vendas_censo[\"Valor_anuncio\"]\n",
    "lr = LinearRegression()\n",
    "\n",
    "X_train, X_test, Y_train, Y_test = train_test_split(X, Y, test_size = 0.25, random_state = 54)\n",
    "lr.fit(X_train, Y_train)\n",
    "Y_predict_test = lr.predict(X_test)\n",
    "Y_predict_train = lr.predict(X_train)\n",
    "mae_test = mean_absolute_error(Y_test, Y_predict_test)\n",
    "r2_test = r2_score(Y_test, Y_predict_test)\n",
    "mae_train = mean_absolute_error(Y_train, Y_predict_train)\n",
    "r2_train = r2_score(Y_train, Y_predict_train)"
   ]
  },
  {
   "cell_type": "code",
   "execution_count": 9,
   "id": "7dcadca1",
   "metadata": {},
   "outputs": [
    {
     "data": {
      "image/png": "[encoded data removed]",
      "text/plain": [
       "<Figure size 720x720 with 1 Axes>"
      ]
     },
     "metadata": {
      "needs_background": "light"
     },
     "output_type": "display_data"
    }
   ],
   "source": [
    "plt.figure(figsize=(10, 10))\n",
    "sns.scatterplot(x=Y_test, y=Y_predict_test)\n",
    "plt.xlabel(\"Preço do Anúncio\")\n",
    "plt.ylabel(\"Preço previsto\")\n",
    "plt.show()"
   ]
  },
  {
   "cell_type": "markdown",
   "id": "d12a4ac1",
   "metadata": {},
   "source": [
    "### Desafio 1:\n",
    "\n",
    "<p>Tentar encontrar dados de bairros de SP e utilizar esses dados para obter o metro quadrado desse bairro, ao invés da base de dados utilizada.</p>"
   ]
  },
  {
   "cell_type": "markdown",
   "id": "88e6469d",
   "metadata": {},
   "source": [
    "### Desafio 2:\n",
    "\n",
    "<p>Testar outros modelos de regressão.</p>"
   ]
  },
  {
   "cell_type": "markdown",
   "id": "15d2fab9",
   "metadata": {},
   "source": [
    "##### Modelo 1:\n",
    "\n",
    "<p>Para esse modelo irei utilizar as variáveis - \"Quartos\", \"Banheiros\", \"Vagas\", \"V009\". O treinamento do modelo irá utilizar o método de Floresta Aleatória (Random Florest).</p>"
   ]
  },
  {
   "cell_type": "code",
   "execution_count": 45,
   "id": "76e1ca9b",
   "metadata": {
    "scrolled": false
   },
   "outputs": [
    {
     "name": "stdout",
     "output_type": "stream",
     "text": [
      "Esse modelo apresenta um n_estimators=100 e um random_state=0\n",
      "O MAE desse modelo é R$948630.1213789339;\n",
      "O r2_score desse modelo é 0.6206425725459169.\n",
      "\n",
      "Esse modelo apresenta um n_estimators=100 e um random_state=10\n",
      "O MAE desse modelo é R$965703.5838722136;\n",
      "O r2_score desse modelo é 0.5998497776010356.\n",
      "\n",
      "Esse modelo apresenta um n_estimators=200 e um random_state=0\n",
      "O MAE desse modelo é R$936430.040966953;\n",
      "O r2_score desse modelo é 0.6257859384535681.\n",
      "\n",
      "Esse modelo apresenta um n_estimators=200 e um random_state=10\n",
      "O MAE desse modelo é R$963551.356387714;\n",
      "O r2_score desse modelo é 0.6050502386112844.\n",
      "\n",
      "Esse modelo apresenta um n_estimators=200 e um random_state=50\n",
      "O MAE desse modelo é R$942455.5336085251;\n",
      "O r2_score desse modelo é 0.6327806574404194.\n",
      "\n"
     ]
    }
   ],
   "source": [
    "#Separo o dataset em variáveis de interesse e modelo utilizado.\n",
    "X_modelo1 = dados_vendas_censo[[\"Quartos\", \"Banheiros\", \"Vagas\",\"V009\"]]\n",
    "Y_modelo1 = dados_vendas_censo[\"Valor_anuncio\"]\n",
    "\n",
    "#Defino uma função que irá me dar o modelo. Aqui essa função me permite estudar diferentes random_states e n_estimators de forma\n",
    "#extremamente rápida.\n",
    "\n",
    "def RandomForest_Modelo(X_TREINO,X_TESTE,Y_TREINO,Y_TESTE,N_EST=100,RAND_ST=0):\n",
    "    Modelo = RandomForestRegressor(n_estimators=N_EST,random_state=RAND_ST)\n",
    "    Modelo.fit(X_TREINO,Y_TREINO)\n",
    "    Pred_mod = Modelo.predict(X_TESTE)\n",
    "    print(\"Esse modelo apresenta um n_estimators=%s e um random_state=%s\"%(N_EST,RAND_ST))\n",
    "    print(\"O MAE desse modelo é R$%s;\"%(mean_absolute_error(Y_TESTE,Pred_mod)))\n",
    "    print(\"O r2_score desse modelo é %s.\"%(r2_score(Y_TESTE,Pred_mod)))\n",
    "    print(\"\")\n",
    "    return Pred_mod\n",
    "\n",
    "#Separo os resultados e treino o modelo:\n",
    "X_m1_treino, X_m1_teste, Y_m1_treino, Y_m1_teste = train_test_split(X_modelo1, Y_modelo1, \n",
    "                                                                    test_size = 0.25, random_state = 0)\n",
    "Pred_mU = RandomForest_Modelo(X_TREINO=X_m1_treino, X_TESTE=X_m1_teste, Y_TREINO=Y_m1_treino, Y_TESTE=Y_m1_teste)\n",
    "\n",
    "#Outro modelo envolvendo um random_state diferente:\n",
    "X_m1_treino, X_m1_teste, Y_m1_treino, Y_m1_teste = train_test_split(X_modelo1, Y_modelo1, \n",
    "                                                                    test_size = 0.25, random_state = 10)\n",
    "Pred_mU = RandomForest_Modelo(X_TREINO=X_m1_treino, X_TESTE=X_m1_teste, Y_TREINO=Y_m1_treino, Y_TESTE=Y_m1_teste, \n",
    "                    RAND_ST=10)\n",
    "\n",
    "#Outro modelo envolvendo um n_estimators diferente:\n",
    "X_m1_treino, X_m1_teste, Y_m1_treino, Y_m1_teste = train_test_split(X_modelo1, Y_modelo1, \n",
    "                                                                    test_size = 0.25, random_state = 0)\n",
    "Pred_mU = RandomForest_Modelo(X_TREINO=X_m1_treino, X_TESTE=X_m1_teste, Y_TREINO=Y_m1_treino, Y_TESTE=Y_m1_teste, \n",
    "                    N_EST=200)\n",
    "\n",
    "#Outro modelo envolvendo um n_estimators diferente e um random_state também diferente:\n",
    "X_m1_treino, X_m1_teste, Y_m1_treino, Y_m1_teste = train_test_split(X_modelo1, Y_modelo1, \n",
    "                                                                    test_size = 0.25, random_state = 10)\n",
    "Pred_mU = RandomForest_Modelo(X_TREINO=X_m1_treino, X_TESTE=X_m1_teste, Y_TREINO=Y_m1_treino, Y_TESTE=Y_m1_teste, \n",
    "                    N_EST=200, RAND_ST=10)\n",
    "\n",
    "#Outro modelo envolvendo um n_estimators diferente e um random_state também diferente:\n",
    "X_m1_treino, X_m1_teste, Y_m1_treino, Y_m1_teste = train_test_split(X_modelo1, Y_modelo1, \n",
    "                                                                    test_size = 0.25, random_state = 50)\n",
    "Pred_mU = RandomForest_Modelo(X_TREINO=X_m1_treino, X_TESTE=X_m1_teste, Y_TREINO=Y_m1_treino, Y_TESTE=Y_m1_teste, \n",
    "                    N_EST=200, RAND_ST=50)"
   ]
  },
  {
   "cell_type": "markdown",
   "id": "04ab5dda",
   "metadata": {},
   "source": [
    "##### Modelo 2:\n",
    "\n",
    "<p>Para esse modelo irei utilizar as variáveis - \"Quartos\", \"Banheiros\", \"Vagas\", \"latitude\", \"longitude\", \"V009\". O treinamento do modelo irá utilizar o método de Floresta Aleatória (Random Florest).</p>"
   ]
  },
  {
   "cell_type": "code",
   "execution_count": 46,
   "id": "38710af6",
   "metadata": {},
   "outputs": [
    {
     "name": "stdout",
     "output_type": "stream",
     "text": [
      "Esse modelo apresenta um n_estimators=100 e um random_state=0\n",
      "O MAE desse modelo é R$814104.5956303523;\n",
      "O r2_score desse modelo é 0.7072257016885208.\n",
      "\n",
      "Esse modelo apresenta um n_estimators=100 e um random_state=10\n",
      "O MAE desse modelo é R$820808.0940769889;\n",
      "O r2_score desse modelo é 0.7133281650952564.\n",
      "\n",
      "Esse modelo apresenta um n_estimators=200 e um random_state=0\n",
      "O MAE desse modelo é R$807925.740696753;\n",
      "O r2_score desse modelo é 0.7104613651296939.\n",
      "\n",
      "Esse modelo apresenta um n_estimators=200 e um random_state=10\n",
      "O MAE desse modelo é R$811145.1853529896;\n",
      "O r2_score desse modelo é 0.720521340886227.\n",
      "\n",
      "Esse modelo apresenta um n_estimators=200 e um random_state=50\n",
      "O MAE desse modelo é R$802074.7629198778;\n",
      "O r2_score desse modelo é 0.7194314359085994.\n",
      "\n"
     ]
    }
   ],
   "source": [
    "#Separo o dataset em variáveis de interesse e modelo utilizado.\n",
    "X_modelo2 = dados_vendas_censo[[\"Quartos\", \"Banheiros\", \"Vagas\",\"latitude\",\"longitude\",\"V009\"]]\n",
    "Y_modelo2 = dados_vendas_censo[\"Valor_anuncio\"]\n",
    "\n",
    "#Como estou usando a mesma função de antes, não irei criar uma nova função.\n",
    "\n",
    "#Separo os resultados e treino o modelo:\n",
    "X_m2_treino, X_m2_teste, Y_m2_treino, Y_m2_teste = train_test_split(X_modelo2, Y_modelo2, \n",
    "                                                                    test_size = 0.25, random_state = 0)\n",
    "Pred_mD =RandomForest_Modelo(X_TREINO=X_m2_treino, X_TESTE=X_m2_teste, Y_TREINO=Y_m2_treino, Y_TESTE=Y_m2_teste)\n",
    "\n",
    "#Outro modelo envolvendo um random_state diferente:\n",
    "X_m2_treino, X_m2_teste, Y_m2_treino, Y_m2_teste = train_test_split(X_modelo2, Y_modelo2, \n",
    "                                                                    test_size = 0.25, random_state = 10)\n",
    "Pred_mD =RandomForest_Modelo(X_TREINO=X_m2_treino, X_TESTE=X_m2_teste, Y_TREINO=Y_m2_treino, Y_TESTE=Y_m2_teste, \n",
    "                    RAND_ST=10)\n",
    "\n",
    "#Outro modelo envolvendo um n_estimators diferente:\n",
    "X_m2_treino, X_m2_teste, Y_m2_treino, Y_m2_teste = train_test_split(X_modelo2, Y_modelo2, \n",
    "                                                                    test_size = 0.25, random_state = 0)\n",
    "Pred_mD =RandomForest_Modelo(X_TREINO=X_m2_treino, X_TESTE=X_m2_teste, Y_TREINO=Y_m2_treino, Y_TESTE=Y_m2_teste, \n",
    "                    N_EST=200)\n",
    "\n",
    "#Outro modelo envolvendo um n_estimators diferente e um random_state também diferente:\n",
    "X_m2_treino, X_m2_teste, Y_m2_treino, Y_m2_teste = train_test_split(X_modelo2, Y_modelo2, \n",
    "                                                                    test_size = 0.25, random_state = 10)\n",
    "Pred_mD = RandomForest_Modelo(X_TREINO=X_m2_treino, X_TESTE=X_m2_teste, Y_TREINO=Y_m2_treino, Y_TESTE=Y_m2_teste, \n",
    "                    N_EST=200, RAND_ST=10)\n",
    "\n",
    "#Outro modelo envolvendo um n_estimators diferente e um random_state também diferente:\n",
    "X_m2_treino, X_m2_teste, Y_m2_treino, Y_m2_teste = train_test_split(X_modelo2, Y_modelo2, \n",
    "                                                                    test_size = 0.25, random_state = 50)\n",
    "Pred_mD = RandomForest_Modelo(X_TREINO=X_m2_treino, X_TESTE=X_m2_teste, Y_TREINO=Y_m2_treino, Y_TESTE=Y_m2_teste, \n",
    "                    N_EST=200, RAND_ST=50)"
   ]
  },
  {
   "cell_type": "markdown",
   "id": "023edf18",
   "metadata": {},
   "source": [
    "##### Modelo 3:\n",
    "\n",
    "<p>Para esse modelo irei utilizar as variáveis - \"Metragem\", \"Quartos\", \"Situacao_setor\", \"V009\". O treinamento do modelo irá utilizar o método de Floresta Aleatória (Random Florest).</p>"
   ]
  },
  {
   "cell_type": "code",
   "execution_count": 48,
   "id": "d0d248f2",
   "metadata": {},
   "outputs": [
    {
     "name": "stdout",
     "output_type": "stream",
     "text": [
      "Esse modelo apresenta um n_estimators=100 e um random_state=0\n",
      "O MAE desse modelo é R$849448.2632936747;\n",
      "O r2_score desse modelo é 0.70329342956883.\n",
      "\n",
      "Esse modelo apresenta um n_estimators=100 e um random_state=10\n",
      "O MAE desse modelo é R$819783.9978270296;\n",
      "O r2_score desse modelo é 0.7176742735754533.\n",
      "\n",
      "Esse modelo apresenta um n_estimators=200 e um random_state=0\n",
      "O MAE desse modelo é R$846695.2976500294;\n",
      "O r2_score desse modelo é 0.7025809430937131.\n",
      "\n",
      "Esse modelo apresenta um n_estimators=200 e um random_state=10\n",
      "O MAE desse modelo é R$815011.5836748962;\n",
      "O r2_score desse modelo é 0.7177245791417837.\n",
      "\n",
      "Esse modelo apresenta um n_estimators=200 e um random_state=50\n",
      "O MAE desse modelo é R$778414.9939437191;\n",
      "O r2_score desse modelo é 0.7371310940952398.\n",
      "\n"
     ]
    }
   ],
   "source": [
    "#Separo o dataset em variáveis de interesse e modelo utilizado.\n",
    "X_modelo3 = dados_vendas_censo[[\"Metragem\", \"Quartos\", \"Situacao_setor\", \"V009\"]]\n",
    "Y_modelo3 = dados_vendas_censo[\"Valor_anuncio\"]\n",
    "\n",
    "#Como estou usando a mesma função de antes, não irei criar uma nova função.\n",
    "\n",
    "#Separo os resultados e treino o modelo:\n",
    "X_m3_treino, X_m3_teste, Y_m3_treino, Y_m3_teste = train_test_split(X_modelo3, Y_modelo3, \n",
    "                                                                    test_size = 0.25, random_state = 0)\n",
    "Pred_mT = RandomForest_Modelo(X_TREINO=X_m3_treino, X_TESTE=X_m3_teste, Y_TREINO=Y_m3_treino, Y_TESTE=Y_m3_teste)\n",
    "\n",
    "#Outro modelo envolvendo um random_state diferente:\n",
    "X_m3_treino, X_m3_teste, Y_m3_treino, Y_m3_teste = train_test_split(X_modelo3, Y_modelo3, \n",
    "                                                                    test_size = 0.25, random_state = 10)\n",
    "Pred_mT = RandomForest_Modelo(X_TREINO=X_m3_treino, X_TESTE=X_m3_teste, Y_TREINO=Y_m3_treino, Y_TESTE=Y_m3_teste, \n",
    "                    RAND_ST=10)\n",
    "\n",
    "#Outro modelo envolvendo um n_estimators diferente:\n",
    "X_m3_treino, X_m3_teste, Y_m3_treino, Y_m3_teste = train_test_split(X_modelo3, Y_modelo3, \n",
    "                                                                    test_size = 0.25, random_state = 0)\n",
    "Pred_mT = RandomForest_Modelo(X_TREINO=X_m3_treino, X_TESTE=X_m3_teste, Y_TREINO=Y_m3_treino, Y_TESTE=Y_m3_teste, \n",
    "                    N_EST=200)\n",
    "\n",
    "#Outro modelo envolvendo um n_estimators diferente e um random_state também diferente:\n",
    "X_m3_treino, X_m3_teste, Y_m3_treino, Y_m3_teste = train_test_split(X_modelo3, Y_modelo3, \n",
    "                                                                    test_size = 0.25, random_state = 10)\n",
    "Pred_mT = RandomForest_Modelo(X_TREINO=X_m3_treino, X_TESTE=X_m3_teste, Y_TREINO=Y_m3_treino, Y_TESTE=Y_m3_teste, \n",
    "                    N_EST=200, RAND_ST=10)\n",
    "\n",
    "#Outro modelo envolvendo um n_estimators diferente e um random_state também diferente:\n",
    "X_m3_treino, X_m3_teste, Y_m3_treino, Y_m3_teste = train_test_split(X_modelo3, Y_modelo3, \n",
    "                                                                    test_size = 0.25, random_state = 50)\n",
    "Pred_mT = RandomForest_Modelo(X_TREINO=X_m3_treino, X_TESTE=X_m3_teste, Y_TREINO=Y_m3_treino, Y_TESTE=Y_m3_teste, \n",
    "                    N_EST=200, RAND_ST=50)"
   ]
  },
  {
   "cell_type": "markdown",
   "id": "e45bbbc8",
   "metadata": {},
   "source": [
    "##### Modelo 4:\n",
    "\n",
    "<p>Para esse modelo irei utilizar as variáveis - \"Metragem\", \"Quartos\", \"Situacao_setor\", \"V009\". O treinamento do modelo irá utilizar o método XGBoost.</p>"
   ]
  },
  {
   "cell_type": "code",
   "execution_count": 56,
   "id": "e71aa52c",
   "metadata": {},
   "outputs": [
    {
     "name": "stderr",
     "output_type": "stream",
     "text": [
      "C:\\Users\\User\\anaconda3\\envs\\geo_env\\lib\\site-packages\\xgboost\\data.py:262: FutureWarning: pandas.Int64Index is deprecated and will be removed from pandas in a future version. Use pandas.Index with the appropriate dtype instead.\n",
      "  elif isinstance(data.columns, (pd.Int64Index, pd.RangeIndex)):\n"
     ]
    },
    {
     "name": "stdout",
     "output_type": "stream",
     "text": [
      "Esse modelo apresenta um n_estimators=100 e um random_state=0 e um learning rate de 0.1\n",
      "O MAE desse modelo é R$893650.679581448;\n",
      "O r2_score desse modelo é 0.6898929820855861.\n",
      "\n"
     ]
    },
    {
     "name": "stderr",
     "output_type": "stream",
     "text": [
      "C:\\Users\\User\\anaconda3\\envs\\geo_env\\lib\\site-packages\\xgboost\\data.py:262: FutureWarning: pandas.Int64Index is deprecated and will be removed from pandas in a future version. Use pandas.Index with the appropriate dtype instead.\n",
      "  elif isinstance(data.columns, (pd.Int64Index, pd.RangeIndex)):\n"
     ]
    },
    {
     "name": "stdout",
     "output_type": "stream",
     "text": [
      "Esse modelo apresenta um n_estimators=100 e um random_state=0 e um learning rate de 0.05\n",
      "O MAE desse modelo é R$949089.8910020739;\n",
      "O r2_score desse modelo é 0.6697223971833495.\n",
      "\n"
     ]
    },
    {
     "name": "stderr",
     "output_type": "stream",
     "text": [
      "C:\\Users\\User\\anaconda3\\envs\\geo_env\\lib\\site-packages\\xgboost\\data.py:262: FutureWarning: pandas.Int64Index is deprecated and will be removed from pandas in a future version. Use pandas.Index with the appropriate dtype instead.\n",
      "  elif isinstance(data.columns, (pd.Int64Index, pd.RangeIndex)):\n"
     ]
    },
    {
     "name": "stdout",
     "output_type": "stream",
     "text": [
      "Esse modelo apresenta um n_estimators=100 e um random_state=10 e um learning rate de 0.05\n",
      "O MAE desse modelo é R$870314.5737179487;\n",
      "O r2_score desse modelo é 0.7183038913845708.\n",
      "\n"
     ]
    },
    {
     "name": "stderr",
     "output_type": "stream",
     "text": [
      "C:\\Users\\User\\anaconda3\\envs\\geo_env\\lib\\site-packages\\xgboost\\data.py:262: FutureWarning: pandas.Int64Index is deprecated and will be removed from pandas in a future version. Use pandas.Index with the appropriate dtype instead.\n",
      "  elif isinstance(data.columns, (pd.Int64Index, pd.RangeIndex)):\n"
     ]
    },
    {
     "name": "stdout",
     "output_type": "stream",
     "text": [
      "Esse modelo apresenta um n_estimators=200 e um random_state=0 e um learning rate de 0.05\n",
      "O MAE desse modelo é R$898973.6686463046;\n",
      "O r2_score desse modelo é 0.6864877985550242.\n",
      "\n"
     ]
    },
    {
     "name": "stderr",
     "output_type": "stream",
     "text": [
      "C:\\Users\\User\\anaconda3\\envs\\geo_env\\lib\\site-packages\\xgboost\\data.py:262: FutureWarning: pandas.Int64Index is deprecated and will be removed from pandas in a future version. Use pandas.Index with the appropriate dtype instead.\n",
      "  elif isinstance(data.columns, (pd.Int64Index, pd.RangeIndex)):\n"
     ]
    },
    {
     "name": "stdout",
     "output_type": "stream",
     "text": [
      "Esse modelo apresenta um n_estimators=200 e um random_state=50 e um learning rate de 0.05\n",
      "O MAE desse modelo é R$787202.6837999623;\n",
      "O r2_score desse modelo é 0.779973700996839.\n",
      "\n"
     ]
    },
    {
     "name": "stderr",
     "output_type": "stream",
     "text": [
      "C:\\Users\\User\\anaconda3\\envs\\geo_env\\lib\\site-packages\\xgboost\\data.py:262: FutureWarning: pandas.Int64Index is deprecated and will be removed from pandas in a future version. Use pandas.Index with the appropriate dtype instead.\n",
      "  elif isinstance(data.columns, (pd.Int64Index, pd.RangeIndex)):\n"
     ]
    },
    {
     "name": "stdout",
     "output_type": "stream",
     "text": [
      "Esse modelo apresenta um n_estimators=500 e um random_state=25 e um learning rate de 0.2\n",
      "O MAE desse modelo é R$673432.4889175622;\n",
      "O r2_score desse modelo é 0.7752051017050796.\n",
      "\n"
     ]
    },
    {
     "name": "stderr",
     "output_type": "stream",
     "text": [
      "C:\\Users\\User\\anaconda3\\envs\\geo_env\\lib\\site-packages\\xgboost\\data.py:262: FutureWarning: pandas.Int64Index is deprecated and will be removed from pandas in a future version. Use pandas.Index with the appropriate dtype instead.\n",
      "  elif isinstance(data.columns, (pd.Int64Index, pd.RangeIndex)):\n"
     ]
    },
    {
     "name": "stdout",
     "output_type": "stream",
     "text": [
      "Esse modelo apresenta um n_estimators=500 e um random_state=50 e um learning rate de 0.1\n",
      "O MAE desse modelo é R$671148.1716275453;\n",
      "O r2_score desse modelo é 0.815181611041103.\n",
      "\n"
     ]
    }
   ],
   "source": [
    "#Separo o dataset em variáveis de interesse e modelo utilizado.\n",
    "X_modelo4 = dados_vendas_censo[[\"Metragem\", \"Quartos\", \"Situacao_setor\", \"V009\"]]\n",
    "Y_modelo4 = dados_vendas_censo[\"Valor_anuncio\"]\n",
    "\n",
    "#Defino uma função que irá me dar o modelo. Aqui essa função me permite estudar diferentes random_states e n_estimators de forma\n",
    "#extremamente rápida.\n",
    "\n",
    "def XGBoost_Modelo(X_TREINO,X_TESTE,Y_TREINO,Y_TESTE,N_EST=100,RAND_ST=0,LEARATE=0.1):\n",
    "    Modelo = XGBRegressor(n_estimators=N_EST,random_state=RAND_ST,learning_rate=LEARATE)\n",
    "    Modelo.fit(X_TREINO,Y_TREINO)\n",
    "    Pred_mod = Modelo.predict(X_TESTE)\n",
    "    print(\"Esse modelo apresenta um n_estimators=%s e um random_state=%s e um learning rate de %s\"%(N_EST,RAND_ST,LEARATE))\n",
    "    print(\"O MAE desse modelo é R$%s;\"%(mean_absolute_error(Y_TESTE,Pred_mod)))\n",
    "    print(\"O r2_score desse modelo é %s.\"%(r2_score(Y_TESTE,Pred_mod)))\n",
    "    print(\"\")\n",
    "    return Pred_mod\n",
    "\n",
    "#Separo os resultados e treino o modelo;\n",
    "X_m4_treino, X_m4_teste, Y_m4_treino, Y_m4_teste = train_test_split(X_modelo4, Y_modelo4, \n",
    "                                                                    test_size = 0.25, random_state = 0)\n",
    "Pred_mQ = XGBoost_Modelo(X_TREINO=X_m4_treino, X_TESTE=X_m4_teste, Y_TREINO=Y_m4_treino, Y_TESTE=Y_m4_teste)\n",
    "\n",
    "#Altero valores do learning rate;\n",
    "X_m4_treino, X_m4_teste, Y_m4_treino, Y_m4_teste = train_test_split(X_modelo4, Y_modelo4, \n",
    "                                                                    test_size = 0.25, random_state = 0)\n",
    "Pred_mQ = XGBoost_Modelo(X_TREINO=X_m4_treino, X_TESTE=X_m4_teste, Y_TREINO=Y_m4_treino, Y_TESTE=Y_m4_teste, \n",
    "                         LEARATE=0.05)\n",
    "\n",
    "#Altero valores para o Random_State e para o learning rate;\n",
    "X_m4_treino, X_m4_teste, Y_m4_treino, Y_m4_teste = train_test_split(X_modelo4, Y_modelo4, \n",
    "                                                                    test_size = 0.25, random_state = 10)\n",
    "Pred_mQ = XGBoost_Modelo(X_TREINO=X_m4_treino, X_TESTE=X_m4_teste, Y_TREINO=Y_m4_treino, Y_TESTE=Y_m4_teste, \n",
    "                         RAND_ST=10, LEARATE=0.05)\n",
    "\n",
    "#Altero valores para o N_estimators e para o learning rate;\n",
    "X_m4_treino, X_m4_teste, Y_m4_treino, Y_m4_teste = train_test_split(X_modelo4, Y_modelo4, \n",
    "                                                                    test_size = 0.25, random_state = 0)\n",
    "Pred_mQ = XGBoost_Modelo(X_TREINO=X_m4_treino, X_TESTE=X_m4_teste, Y_TREINO=Y_m4_treino, Y_TESTE=Y_m4_teste, \n",
    "                         N_EST=200, LEARATE=0.05)\n",
    "\n",
    "#Altero valores para o Random_State, para o N_estimators e para o learning rate;\n",
    "X_m4_treino, X_m4_teste, Y_m4_treino, Y_m4_teste = train_test_split(X_modelo4, Y_modelo4, \n",
    "                                                                    test_size = 0.25, random_state = 50)\n",
    "Pred_mQ = XGBoost_Modelo(X_TREINO=X_m4_treino, X_TESTE=X_m4_teste, Y_TREINO=Y_m4_treino, Y_TESTE=Y_m4_teste,\n",
    "                        RAND_ST=50, N_EST=200, LEARATE=0.05)\n",
    "#Altero valores para o Random_State, para o N_estimators e para o learning rate;\n",
    "X_m4_treino, X_m4_teste, Y_m4_treino, Y_m4_teste = train_test_split(X_modelo4, Y_modelo4, \n",
    "                                                                    test_size = 0.25, random_state = 25)\n",
    "Pred_mQ = XGBoost_Modelo(X_TREINO=X_m4_treino, X_TESTE=X_m4_teste, Y_TREINO=Y_m4_treino, Y_TESTE=Y_m4_teste,\n",
    "                        RAND_ST=25, N_EST=500, LEARATE=0.2)\n",
    "\n",
    "#Altero valores para o Random_State, para o N_estimators e para o learning rate;\n",
    "X_m4_treino, X_m4_teste, Y_m4_treino, Y_m4_teste = train_test_split(X_modelo4, Y_modelo4, \n",
    "                                                                    test_size = 0.25, random_state = 50)\n",
    "Pred_mQ = XGBoost_Modelo(X_TREINO=X_m4_treino, X_TESTE=X_m4_teste, Y_TREINO=Y_m4_treino, Y_TESTE=Y_m4_teste,\n",
    "                        RAND_ST=50, N_EST=500, LEARATE=0.1)"
   ]
  },
  {
   "cell_type": "markdown",
   "id": "9251c919",
   "metadata": {},
   "source": [
    "##### Modelo 5:\n",
    "\n",
    "<p>Para esse modelo irei utilizar as variáveis - \"Metragem\", \"Quartos\", \"Banheiros\", \"Vagas\", \"latitude\", \"longitude\", \"V009\". O treinamento do modelo irá utilizar o método XGBoost.</p>"
   ]
  },
  {
   "cell_type": "code",
   "execution_count": 61,
   "id": "c65c0268",
   "metadata": {},
   "outputs": [
    {
     "name": "stderr",
     "output_type": "stream",
     "text": [
      "C:\\Users\\User\\anaconda3\\envs\\geo_env\\lib\\site-packages\\xgboost\\data.py:262: FutureWarning: pandas.Int64Index is deprecated and will be removed from pandas in a future version. Use pandas.Index with the appropriate dtype instead.\n",
      "  elif isinstance(data.columns, (pd.Int64Index, pd.RangeIndex)):\n"
     ]
    },
    {
     "name": "stdout",
     "output_type": "stream",
     "text": [
      "Esse modelo apresenta um n_estimators=100 e um random_state=0 e um learning rate de 0.1\n",
      "O MAE desse modelo é R$693799.4950509049;\n",
      "O r2_score desse modelo é 0.8264482073863404.\n",
      "\n"
     ]
    },
    {
     "name": "stderr",
     "output_type": "stream",
     "text": [
      "C:\\Users\\User\\anaconda3\\envs\\geo_env\\lib\\site-packages\\xgboost\\data.py:262: FutureWarning: pandas.Int64Index is deprecated and will be removed from pandas in a future version. Use pandas.Index with the appropriate dtype instead.\n",
      "  elif isinstance(data.columns, (pd.Int64Index, pd.RangeIndex)):\n"
     ]
    },
    {
     "name": "stdout",
     "output_type": "stream",
     "text": [
      "Esse modelo apresenta um n_estimators=100 e um random_state=0 e um learning rate de 0.05\n",
      "O MAE desse modelo é R$738773.9220164027;\n",
      "O r2_score desse modelo é 0.8113254955776497.\n",
      "\n"
     ]
    },
    {
     "name": "stderr",
     "output_type": "stream",
     "text": [
      "C:\\Users\\User\\anaconda3\\envs\\geo_env\\lib\\site-packages\\xgboost\\data.py:262: FutureWarning: pandas.Int64Index is deprecated and will be removed from pandas in a future version. Use pandas.Index with the appropriate dtype instead.\n",
      "  elif isinstance(data.columns, (pd.Int64Index, pd.RangeIndex)):\n"
     ]
    },
    {
     "name": "stdout",
     "output_type": "stream",
     "text": [
      "Esse modelo apresenta um n_estimators=100 e um random_state=10 e um learning rate de 0.05\n",
      "O MAE desse modelo é R$705581.6704845399;\n",
      "O r2_score desse modelo é 0.8251439701923802.\n",
      "\n"
     ]
    },
    {
     "name": "stderr",
     "output_type": "stream",
     "text": [
      "C:\\Users\\User\\anaconda3\\envs\\geo_env\\lib\\site-packages\\xgboost\\data.py:262: FutureWarning: pandas.Int64Index is deprecated and will be removed from pandas in a future version. Use pandas.Index with the appropriate dtype instead.\n",
      "  elif isinstance(data.columns, (pd.Int64Index, pd.RangeIndex)):\n"
     ]
    },
    {
     "name": "stdout",
     "output_type": "stream",
     "text": [
      "Esse modelo apresenta um n_estimators=200 e um random_state=0 e um learning rate de 0.05\n",
      "O MAE desse modelo é R$686800.2159219458;\n",
      "O r2_score desse modelo é 0.8299903926806647.\n",
      "\n"
     ]
    },
    {
     "name": "stderr",
     "output_type": "stream",
     "text": [
      "C:\\Users\\User\\anaconda3\\envs\\geo_env\\lib\\site-packages\\xgboost\\data.py:262: FutureWarning: pandas.Int64Index is deprecated and will be removed from pandas in a future version. Use pandas.Index with the appropriate dtype instead.\n",
      "  elif isinstance(data.columns, (pd.Int64Index, pd.RangeIndex)):\n"
     ]
    },
    {
     "name": "stdout",
     "output_type": "stream",
     "text": [
      "Esse modelo apresenta um n_estimators=200 e um random_state=50 e um learning rate de 0.05\n",
      "O MAE desse modelo é R$639492.4807456636;\n",
      "O r2_score desse modelo é 0.8611189924760062.\n",
      "\n"
     ]
    },
    {
     "name": "stderr",
     "output_type": "stream",
     "text": [
      "C:\\Users\\User\\anaconda3\\envs\\geo_env\\lib\\site-packages\\xgboost\\data.py:262: FutureWarning: pandas.Int64Index is deprecated and will be removed from pandas in a future version. Use pandas.Index with the appropriate dtype instead.\n",
      "  elif isinstance(data.columns, (pd.Int64Index, pd.RangeIndex)):\n"
     ]
    },
    {
     "name": "stdout",
     "output_type": "stream",
     "text": [
      "Esse modelo apresenta um n_estimators=500 e um random_state=25 e um learning rate de 0.2\n",
      "O MAE desse modelo é R$533409.9055194193;\n",
      "O r2_score desse modelo é 0.8497317556076865.\n",
      "\n"
     ]
    },
    {
     "name": "stderr",
     "output_type": "stream",
     "text": [
      "C:\\Users\\User\\anaconda3\\envs\\geo_env\\lib\\site-packages\\xgboost\\data.py:262: FutureWarning: pandas.Int64Index is deprecated and will be removed from pandas in a future version. Use pandas.Index with the appropriate dtype instead.\n",
      "  elif isinstance(data.columns, (pd.Int64Index, pd.RangeIndex)):\n"
     ]
    },
    {
     "name": "stdout",
     "output_type": "stream",
     "text": [
      "Esse modelo apresenta um n_estimators=500 e um random_state=50 e um learning rate de 0.1\n",
      "O MAE desse modelo é R$537080.9224170437;\n",
      "O r2_score desse modelo é 0.8803083721376161.\n",
      "\n"
     ]
    }
   ],
   "source": [
    "#Separo o dataset em variáveis de interesse e modelo utilizado.\n",
    "X_modelo5 = dados_vendas_censo[[\"Metragem\", \"Quartos\", \"Banheiros\", \"Vagas\",\"latitude\", \"longitude\", \"V009\"]]\n",
    "Y_modelo5 = dados_vendas_censo[\"Valor_anuncio\"]\n",
    "\n",
    "#Defino uma função que irá me dar o modelo. Aqui essa função me permite estudar diferentes random_states e n_estimators de forma\n",
    "#extremamente rápida.\n",
    "\n",
    "def XGBoost_Modelo(X_TREINO,X_TESTE,Y_TREINO,Y_TESTE,N_EST=100,RAND_ST=0,LEARATE=0.1):\n",
    "    Modelo = XGBRegressor(n_estimators=N_EST,random_state=RAND_ST,learning_rate=LEARATE)\n",
    "    Modelo.fit(X_TREINO,Y_TREINO)\n",
    "    Pred_mod = Modelo.predict(X_TESTE)\n",
    "    print(\"Esse modelo apresenta um n_estimators=%s e um random_state=%s e um learning rate de %s\"%(N_EST,RAND_ST,LEARATE))\n",
    "    print(\"O MAE desse modelo é R$%s;\"%(mean_absolute_error(Y_TESTE,Pred_mod)))\n",
    "    print(\"O r2_score desse modelo é %s.\"%(r2_score(Y_TESTE,Pred_mod)))\n",
    "    print(\"\")\n",
    "    return Pred_mod\n",
    "\n",
    "#Separo os resultados e treino o modelo;\n",
    "X_m5_treino, X_m5_teste, Y_m5_treino, Y_m5_teste = train_test_split(X_modelo5, Y_modelo5, \n",
    "                                                                    test_size = 0.25, random_state = 0)\n",
    "Pred_mC = XGBoost_Modelo(X_TREINO=X_m5_treino, X_TESTE=X_m5_teste, Y_TREINO=Y_m5_treino, Y_TESTE=Y_m5_teste)\n",
    "\n",
    "#Altero valores do learning rate;\n",
    "X_m5_treino, X_m5_teste, Y_m5_treino, Y_m5_teste = train_test_split(X_modelo5, Y_modelo5, \n",
    "                                                                    test_size = 0.25, random_state = 0)\n",
    "Pred_mC = XGBoost_Modelo(X_TREINO=X_m5_treino, X_TESTE=X_m5_teste, Y_TREINO=Y_m5_treino, Y_TESTE=Y_m5_teste,\n",
    "                         LEARATE=0.05)\n",
    "\n",
    "#Altero valores para o Random_State e para o learning rate;\n",
    "X_m5_treino, X_m5_teste, Y_m5_treino, Y_m5_teste = train_test_split(X_modelo5, Y_modelo5, \n",
    "                                                                    test_size = 0.25, random_state = 10)\n",
    "Pred_mC = XGBoost_Modelo(X_TREINO=X_m5_treino, X_TESTE=X_m5_teste, Y_TREINO=Y_m5_treino, Y_TESTE=Y_m5_teste,\n",
    "                         RAND_ST=10, LEARATE=0.05)\n",
    "\n",
    "#Altero valores para o N_estimators e para o learning rate;\n",
    "X_m5_treino, X_m5_teste, Y_m5_treino, Y_m5_teste = train_test_split(X_modelo5, Y_modelo5, \n",
    "                                                                    test_size = 0.25, random_state = 0)\n",
    "Pred_mC = XGBoost_Modelo(X_TREINO=X_m5_treino, X_TESTE=X_m5_teste, Y_TREINO=Y_m5_treino, Y_TESTE=Y_m5_teste,\n",
    "                         N_EST=200, LEARATE=0.05)\n",
    "\n",
    "#Altero valores para o Random_State, para o N_estimators e para o learning rate;\n",
    "X_m5_treino, X_m5_teste, Y_m5_treino, Y_m5_teste = train_test_split(X_modelo5, Y_modelo5, \n",
    "                                                                    test_size = 0.25, random_state = 50)\n",
    "Pred_mC = XGBoost_Modelo(X_TREINO=X_m5_treino, X_TESTE=X_m5_teste, Y_TREINO=Y_m5_treino, Y_TESTE=Y_m5_teste,\n",
    "                        RAND_ST=50, N_EST=200, LEARATE=0.05)\n",
    "#Altero valores para o Random_State, para o N_estimators e para o learning rate;\n",
    "X_m5_treino, X_m5_teste, Y_m5_treino, Y_m5_teste = train_test_split(X_modelo5, Y_modelo5, \n",
    "                                                                    test_size = 0.25, random_state = 25)\n",
    "Pred_mC = XGBoost_Modelo(X_TREINO=X_m5_treino, X_TESTE=X_m5_teste, Y_TREINO=Y_m5_treino, Y_TESTE=Y_m5_teste,\n",
    "                        RAND_ST=25, N_EST=500, LEARATE=0.2)\n",
    "\n",
    "#Altero valores para o Random_State, para o N_estimators e para o learning rate;\n",
    "X_m5_treino, X_m5_teste, Y_m5_treino, Y_m5_teste = train_test_split(X_modelo5, Y_modelo5, \n",
    "                                                                    test_size = 0.25, random_state = 50)\n",
    "Pred_mC = XGBoost_Modelo(X_TREINO=X_m5_treino, X_TESTE=X_m5_teste, Y_TREINO=Y_m5_treino, Y_TESTE=Y_m5_teste,\n",
    "                        RAND_ST=50, N_EST=500, LEARATE=0.1)"
   ]
  },
  {
   "cell_type": "markdown",
   "id": "dca2926a",
   "metadata": {},
   "source": [
    "<p>Devido aos resultados do quinto modelo utilizando o método XGBoost com os parâmetros n_estimators=500, random_state=50 e learning_rate=0.1 tenho a impressão de que ele é o melhor. Entretanto, devemos proceder com cautela pois os dados utilizados são apenas do dataset de treino e o modelo pode estar sofrendo de <b>overfitting</b>. Até testarmos o modelo com dados reais não posso afirmar que esse é o melhor de todos os modelos.</p>"
   ]
  },
  {
   "cell_type": "markdown",
   "id": "e2cb459e",
   "metadata": {},
   "source": [
    "### Desafio 3:\n",
    "\n",
    "<p>Criar um modelo \"baseline\" com as variáveis originais.</p>"
   ]
  },
  {
   "cell_type": "markdown",
   "id": "2f180a5c",
   "metadata": {},
   "source": [
    "<p>Para esse modelo \"baseline\" irei utilizar do XGBoost devido a ele ter apresentado os melhores resultados. As variáveis originais do modelo são apenas: \"Metragem\", \"Quartos\", \"Banheiros\", \"Vagas\".</p>"
   ]
  },
  {
   "cell_type": "code",
   "execution_count": 59,
   "id": "da72bbd2",
   "metadata": {},
   "outputs": [
    {
     "name": "stderr",
     "output_type": "stream",
     "text": [
      "C:\\Users\\User\\anaconda3\\envs\\geo_env\\lib\\site-packages\\xgboost\\data.py:262: FutureWarning: pandas.Int64Index is deprecated and will be removed from pandas in a future version. Use pandas.Index with the appropriate dtype instead.\n",
      "  elif isinstance(data.columns, (pd.Int64Index, pd.RangeIndex)):\n"
     ]
    },
    {
     "name": "stdout",
     "output_type": "stream",
     "text": [
      "Esse modelo apresenta um n_estimators=100 e um random_state=0 e um learning rate de 0.1\n",
      "O MAE desse modelo é R$1182702.3178261688;\n",
      "O r2_score desse modelo é 0.5454482077858942.\n",
      "\n"
     ]
    },
    {
     "name": "stderr",
     "output_type": "stream",
     "text": [
      "C:\\Users\\User\\anaconda3\\envs\\geo_env\\lib\\site-packages\\xgboost\\data.py:262: FutureWarning: pandas.Int64Index is deprecated and will be removed from pandas in a future version. Use pandas.Index with the appropriate dtype instead.\n",
      "  elif isinstance(data.columns, (pd.Int64Index, pd.RangeIndex)):\n"
     ]
    },
    {
     "name": "stdout",
     "output_type": "stream",
     "text": [
      "Esse modelo apresenta um n_estimators=100 e um random_state=0 e um learning rate de 0.05\n",
      "O MAE desse modelo é R$1172382.6951121795;\n",
      "O r2_score desse modelo é 0.5540347319619464.\n",
      "\n"
     ]
    },
    {
     "name": "stderr",
     "output_type": "stream",
     "text": [
      "C:\\Users\\User\\anaconda3\\envs\\geo_env\\lib\\site-packages\\xgboost\\data.py:262: FutureWarning: pandas.Int64Index is deprecated and will be removed from pandas in a future version. Use pandas.Index with the appropriate dtype instead.\n",
      "  elif isinstance(data.columns, (pd.Int64Index, pd.RangeIndex)):\n"
     ]
    },
    {
     "name": "stdout",
     "output_type": "stream",
     "text": [
      "Esse modelo apresenta um n_estimators=100 e um random_state=10 e um learning rate de 0.05\n",
      "O MAE desse modelo é R$1116094.445630656;\n",
      "O r2_score desse modelo é 0.5853311043329132.\n",
      "\n"
     ]
    },
    {
     "name": "stderr",
     "output_type": "stream",
     "text": [
      "C:\\Users\\User\\anaconda3\\envs\\geo_env\\lib\\site-packages\\xgboost\\data.py:262: FutureWarning: pandas.Int64Index is deprecated and will be removed from pandas in a future version. Use pandas.Index with the appropriate dtype instead.\n",
      "  elif isinstance(data.columns, (pd.Int64Index, pd.RangeIndex)):\n"
     ]
    },
    {
     "name": "stdout",
     "output_type": "stream",
     "text": [
      "Esse modelo apresenta um n_estimators=200 e um random_state=0 e um learning rate de 0.05\n",
      "O MAE desse modelo é R$1170996.2565987934;\n",
      "O r2_score desse modelo é 0.5468508469803381.\n",
      "\n"
     ]
    },
    {
     "name": "stderr",
     "output_type": "stream",
     "text": [
      "C:\\Users\\User\\anaconda3\\envs\\geo_env\\lib\\site-packages\\xgboost\\data.py:262: FutureWarning: pandas.Int64Index is deprecated and will be removed from pandas in a future version. Use pandas.Index with the appropriate dtype instead.\n",
      "  elif isinstance(data.columns, (pd.Int64Index, pd.RangeIndex)):\n"
     ]
    },
    {
     "name": "stdout",
     "output_type": "stream",
     "text": [
      "Esse modelo apresenta um n_estimators=200 e um random_state=50 e um learning rate de 0.05\n",
      "O MAE desse modelo é R$1119450.0884238312;\n",
      "O r2_score desse modelo é 0.6100587868617828.\n",
      "\n"
     ]
    },
    {
     "name": "stderr",
     "output_type": "stream",
     "text": [
      "C:\\Users\\User\\anaconda3\\envs\\geo_env\\lib\\site-packages\\xgboost\\data.py:262: FutureWarning: pandas.Int64Index is deprecated and will be removed from pandas in a future version. Use pandas.Index with the appropriate dtype instead.\n",
      "  elif isinstance(data.columns, (pd.Int64Index, pd.RangeIndex)):\n"
     ]
    },
    {
     "name": "stdout",
     "output_type": "stream",
     "text": [
      "Esse modelo apresenta um n_estimators=500 e um random_state=25 e um learning rate de 0.2\n",
      "O MAE desse modelo é R$1195479.943866068;\n",
      "O r2_score desse modelo é 0.4198170338874907.\n",
      "\n"
     ]
    },
    {
     "name": "stderr",
     "output_type": "stream",
     "text": [
      "C:\\Users\\User\\anaconda3\\envs\\geo_env\\lib\\site-packages\\xgboost\\data.py:262: FutureWarning: pandas.Int64Index is deprecated and will be removed from pandas in a future version. Use pandas.Index with the appropriate dtype instead.\n",
      "  elif isinstance(data.columns, (pd.Int64Index, pd.RangeIndex)):\n"
     ]
    },
    {
     "name": "stdout",
     "output_type": "stream",
     "text": [
      "Esse modelo apresenta um n_estimators=500 e um random_state=50 e um learning rate de 0.1\n",
      "O MAE desse modelo é R$1132772.9808517157;\n",
      "O r2_score desse modelo é 0.5734269393041298.\n",
      "\n"
     ]
    }
   ],
   "source": [
    "#Separo o dataset em variáveis de interesse e modelo utilizado.\n",
    "X_modelo5 = dados_vendas_censo[[\"Metragem\", \"Quartos\", \"Banheiros\", \"Vagas\"]]\n",
    "Y_modelo5 = dados_vendas_censo[\"Valor_anuncio\"]\n",
    "\n",
    "#Defino uma função que irá me dar o modelo. Aqui essa função me permite estudar diferentes random_states e n_estimators de forma\n",
    "#extremamente rápida.\n",
    "\n",
    "def XGBoost_Modelo(X_TREINO,X_TESTE,Y_TREINO,Y_TESTE,N_EST=100,RAND_ST=0,LEARATE=0.1):\n",
    "    Modelo = XGBRegressor(n_estimators=N_EST,random_state=RAND_ST,learning_rate=LEARATE)\n",
    "    Modelo.fit(X_TREINO,Y_TREINO)\n",
    "    Pred_mod = Modelo.predict(X_TESTE)\n",
    "    print(\"Esse modelo apresenta um n_estimators=%s e um random_state=%s e um learning rate de %s\"%(N_EST,RAND_ST,LEARATE))\n",
    "    print(\"O MAE desse modelo é R$%s;\"%(mean_absolute_error(Y_TESTE,Pred_mod)))\n",
    "    print(\"O r2_score desse modelo é %s.\"%(r2_score(Y_TESTE,Pred_mod)))\n",
    "    print(\"\")\n",
    "    return Pred_mod\n",
    "\n",
    "#Separo os resultados e treino o modelo;\n",
    "X_m5_treino, X_m5_teste, Y_m5_treino, Y_m5_teste = train_test_split(X_modelo5, Y_modelo5, \n",
    "                                                                    test_size = 0.25, random_state = 0)\n",
    "Pred_mC = XGBoost_Modelo(X_TREINO=X_m5_treino, X_TESTE=X_m5_teste, Y_TREINO=Y_m5_treino, Y_TESTE=Y_m5_teste)\n",
    "\n",
    "#Altero valores do learning rate;\n",
    "X_m5_treino, X_m5_teste, Y_m5_treino, Y_m5_teste = train_test_split(X_modelo5, Y_modelo5, \n",
    "                                                                    test_size = 0.25, random_state = 0)\n",
    "Pred_mC = XGBoost_Modelo(X_TREINO=X_m5_treino, X_TESTE=X_m5_teste, Y_TREINO=Y_m5_treino, Y_TESTE=Y_m5_teste,\n",
    "                         LEARATE=0.05)\n",
    "\n",
    "#Altero valores para o Random_State e para o learning rate;\n",
    "X_m5_treino, X_m5_teste, Y_m5_treino, Y_m5_teste = train_test_split(X_modelo5, Y_modelo5, \n",
    "                                                                    test_size = 0.25, random_state = 10)\n",
    "Pred_mC = XGBoost_Modelo(X_TREINO=X_m5_treino, X_TESTE=X_m5_teste, Y_TREINO=Y_m5_treino, Y_TESTE=Y_m5_teste,\n",
    "                         RAND_ST=10, LEARATE=0.05)\n",
    "\n",
    "#Altero valores para o N_estimators e para o learning rate;\n",
    "X_m5_treino, X_m5_teste, Y_m5_treino, Y_m5_teste = train_test_split(X_modelo5, Y_modelo5, \n",
    "                                                                    test_size = 0.25, random_state = 0)\n",
    "Pred_mC = XGBoost_Modelo(X_TREINO=X_m5_treino, X_TESTE=X_m5_teste, Y_TREINO=Y_m5_treino, Y_TESTE=Y_m5_teste,\n",
    "                         N_EST=200, LEARATE=0.05)\n",
    "\n",
    "#Altero valores para o Random_State, para o N_estimators e para o learning rate;\n",
    "X_m5_treino, X_m5_teste, Y_m5_treino, Y_m5_teste = train_test_split(X_modelo5, Y_modelo5, \n",
    "                                                                    test_size = 0.25, random_state = 50)\n",
    "Pred_mC = XGBoost_Modelo(X_TREINO=X_m5_treino, X_TESTE=X_m5_teste, Y_TREINO=Y_m5_treino, Y_TESTE=Y_m5_teste,\n",
    "                        RAND_ST=50, N_EST=200, LEARATE=0.05)\n",
    "#Altero valores para o Random_State, para o N_estimators e para o learning rate;\n",
    "X_m5_treino, X_m5_teste, Y_m5_treino, Y_m5_teste = train_test_split(X_modelo5, Y_modelo5, \n",
    "                                                                    test_size = 0.25, random_state = 25)\n",
    "Pred_mC = XGBoost_Modelo(X_TREINO=X_m5_treino, X_TESTE=X_m5_teste, Y_TREINO=Y_m5_treino, Y_TESTE=Y_m5_teste,\n",
    "                        RAND_ST=25, N_EST=500, LEARATE=0.2)\n",
    "\n",
    "#Altero valores para o Random_State, para o N_estimators e para o learning rate;\n",
    "X_m5_treino, X_m5_teste, Y_m5_treino, Y_m5_teste = train_test_split(X_modelo5, Y_modelo5, \n",
    "                                                                    test_size = 0.25, random_state = 50)\n",
    "Pred_mC = XGBoost_Modelo(X_TREINO=X_m5_treino, X_TESTE=X_m5_teste, Y_TREINO=Y_m5_treino, Y_TESTE=Y_m5_teste,\n",
    "                        RAND_ST=50, N_EST=500, LEARATE=0.1)"
   ]
  },
  {
   "cell_type": "markdown",
   "id": "e464f380",
   "metadata": {},
   "source": [
    "<p>Podemos observar que esse modelo não apresenta bons resultados mesmo que o método de IA seja o melhor dos modelos treinados antes, tendo um r2_score entre 0.4 e 0.6.</p>"
   ]
  },
  {
   "cell_type": "markdown",
   "id": "a1eb05ab",
   "metadata": {},
   "source": [
    "### Desafio 4:\n",
    "\n",
    "<p>Trabalhar mais nos dados e criar novas variáveis.</p>"
   ]
  },
  {
   "cell_type": "code",
   "execution_count": null,
   "id": "80a5ef77",
   "metadata": {},
   "outputs": [],
   "source": []
  },
  {
   "cell_type": "markdown",
   "id": "014d04a6",
   "metadata": {},
   "source": [
    "### Desafio 5:\n",
    "\n",
    "<p>Testar o modelo para casos reais.</p>"
   ]
  },
  {
   "cell_type": "code",
   "execution_count": null,
   "id": "744552a4",
   "metadata": {},
   "outputs": [],
   "source": []
  }
 ],
 "metadata": {
  "kernelspec": {
   "display_name": "Python 3 (ipykernel)",
   "language": "python",
   "name": "python3"
  },
  "language_info": {
   "codemirror_mode": {
    "name": "ipython",
    "version": 3
   },
   "file_extension": ".py",
   "mimetype": "text/x-python",
   "name": "python",
   "nbconvert_exporter": "python",
   "pygments_lexer": "ipython3",
   "version": "3.10.4"
  }
 },
 "nbformat": 4,
 "nbformat_minor": 5
}
